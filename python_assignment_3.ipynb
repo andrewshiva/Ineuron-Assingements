{
  "nbformat": 4,
  "nbformat_minor": 0,
  "metadata": {
    "colab": {
      "name": "python assignment 3.ipynb",
      "provenance": [],
      "authorship_tag": "ABX9TyMiXksDAo9WrSEzfzlxLoYA",
      "include_colab_link": true
    },
    "kernelspec": {
      "name": "python3",
      "display_name": "Python 3"
    }
  },
  "cells": [
    {
      "cell_type": "markdown",
      "metadata": {
        "id": "view-in-github",
        "colab_type": "text"
      },
      "source": [
        "<a href=\"https://colab.research.google.com/github/andrewshiva/Ineuron-Assingements/blob/master/python_assignment_3.ipynb\" target=\"_parent\"><img src=\"https://colab.research.google.com/assets/colab-badge.svg\" alt=\"Open In Colab\"/></a>"
      ]
    },
    {
      "cell_type": "code",
      "metadata": {
        "colab": {
          "base_uri": "https://localhost:8080/"
        },
        "id": "4XhbA36QEjNA",
        "outputId": "cc7d999e-6a8c-43c3-c63a-81d4bd10773b"
      },
      "source": [
        "#ans1\r\n",
        "print(\"Input:\")\r\n",
        "number=int(input(\"Please insert the number :\"))\r\n",
        "\r\n",
        "num_list= list(range(1,(number+1)))\r\n",
        "# Import reduce function \r\n",
        "from functools import reduce\r\n",
        "sum_of_elements = reduce((lambda x, y: x + y), num_list)\r\n",
        "\r\n",
        "#Output\r\n",
        "print(\"Output:\")\r\n",
        "print(\"List of First n Natural numbers are:\",num_list)"
      ],
      "execution_count": 1,
      "outputs": [
        {
          "output_type": "stream",
          "text": [
            "Input:\n",
            "Please insert the number :21\n",
            "Output:\n",
            "List of First n Natural numbers are: [1, 2, 3, 4, 5, 6, 7, 8, 9, 10, 11, 12, 13, 14, 15, 16, 17, 18, 19, 20, 21]\n"
          ],
          "name": "stdout"
        }
      ]
    },
    {
      "cell_type": "code",
      "metadata": {
        "colab": {
          "base_uri": "https://localhost:8080/"
        },
        "id": "PgeUVM5Eaca6",
        "outputId": "d5833bed-acc9-4f67-dc1c-c818d4297f7c"
      },
      "source": [
        "#ans2\r\n",
        "print(\"Input:\")\r\n",
        "number=int(input(\"Please insert the number: \"))\r\n",
        "\r\n",
        "num_list=list(range(1,number+1))\r\n",
        "\r\n",
        "\r\n",
        "def myfilter(num_list):\r\n",
        "    '''This function will filter even and odd numbers from list which are multiples of 5 '''\r\n",
        "    num_even_list=[]\r\n",
        "    num_odd_list=[]\r\n",
        "    \r\n",
        "    for i in num_list:\r\n",
        "        if(i%5==0):\r\n",
        "            if(i%2==0):\r\n",
        "                num_even_list.append(i)\r\n",
        "            else:\r\n",
        "                num_odd_list.append(i)\r\n",
        "                \r\n",
        "    return num_even_list,num_odd_list\r\n",
        "\r\n",
        "\r\n",
        "#Function Execution\r\n",
        "output_value=myfilter(num_list)\r\n",
        "\r\n",
        "#Output\r\n",
        "\r\n",
        "print(\"Output:\")\r\n",
        "print(\"List of numbers:\",num_list)\r\n",
        "print(\"List of Even numbers, which are multiples of 5 are:\",output_value[0])\r\n",
        "print(\"List of Odd numbers, which are multiples of 5 are:\",output_value[1])"
      ],
      "execution_count": 2,
      "outputs": [
        {
          "output_type": "stream",
          "text": [
            "Input:\n",
            "Please insert the number: 40\n",
            "Output:\n",
            "List of numbers: [1, 2, 3, 4, 5, 6, 7, 8, 9, 10, 11, 12, 13, 14, 15, 16, 17, 18, 19, 20, 21, 22, 23, 24, 25, 26, 27, 28, 29, 30, 31, 32, 33, 34, 35, 36, 37, 38, 39, 40]\n",
            "List of Even numbers, which are multiples of 5 are: [10, 20, 30, 40]\n",
            "List of Odd numbers, which are multiples of 5 are: [5, 15, 25, 35]\n"
          ],
          "name": "stdout"
        }
      ]
    },
    {
      "cell_type": "code",
      "metadata": {
        "colab": {
          "base_uri": "https://localhost:8080/"
        },
        "id": "g1WI5irrhbyb",
        "outputId": "b83367ae-8fa3-4043-968e-63034d8956c2"
      },
      "source": [
        "#ans2\r\n",
        "#Section 1\r\n",
        "word=\"AcadGild\"\r\n",
        "#list Comprehension\r\n",
        "output_list=[w.upper() for w in list(word)]\r\n",
        "print(\"Output:\")\r\n",
        "print(output_list)\r\n",
        "\r\n",
        "#Section 2\r\n",
        "word_1=list('xyz')\r\n",
        "word_2=[x*n for x in word_1 for n in range(1,5) ]\r\n",
        "print(word_2)\r\n",
        "\r\n",
        "#Section 3\r\n",
        "word_3=[x*n for n in range(1,5) for x in word_1 ]\r\n",
        "print(word_3)\r\n",
        "\r\n",
        "#Section 4\r\n",
        "number=[2,3,4]\r\n",
        "number_1=[[x+n] for x in number for n in range(0,3)]\r\n",
        "print(number_1)\r\n",
        "\r\n",
        "#Section 5\r\n",
        "number_2=[2,3,4,5]\r\n",
        "number_3=[[x+n for n in range(0,4)] for x in number_2 ]\r\n",
        "print(number_3)\r\n",
        "\r\n",
        "#Section 6\r\n",
        "number_4=[1,2,3]\r\n",
        "number_5= [(b,a) for a in number_4 for b in number_4]\r\n",
        "print(number_5)"
      ],
      "execution_count": 3,
      "outputs": [
        {
          "output_type": "stream",
          "text": [
            "Output:\n",
            "['A', 'C', 'A', 'D', 'G', 'I', 'L', 'D']\n",
            "['x', 'xx', 'xxx', 'xxxx', 'y', 'yy', 'yyy', 'yyyy', 'z', 'zz', 'zzz', 'zzzz']\n",
            "['x', 'y', 'z', 'xx', 'yy', 'zz', 'xxx', 'yyy', 'zzz', 'xxxx', 'yyyy', 'zzzz']\n",
            "[[2], [3], [4], [3], [4], [5], [4], [5], [6]]\n",
            "[[2, 3, 4, 5], [3, 4, 5, 6], [4, 5, 6, 7], [5, 6, 7, 8]]\n",
            "[(1, 1), (2, 1), (3, 1), (1, 2), (2, 2), (3, 2), (1, 3), (2, 3), (3, 3)]\n"
          ],
          "name": "stdout"
        }
      ]
    }
  ]
}