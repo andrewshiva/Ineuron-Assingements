{
  "nbformat": 4,
  "nbformat_minor": 0,
  "metadata": {
    "colab": {
      "name": "Exception handling Assignment.ipynb",
      "provenance": [],
      "authorship_tag": "ABX9TyOlVGgNOl7xPP16CscPncZI",
      "include_colab_link": true
    },
    "kernelspec": {
      "name": "python3",
      "display_name": "Python 3"
    }
  },
  "cells": [
    {
      "cell_type": "markdown",
      "metadata": {
        "id": "view-in-github",
        "colab_type": "text"
      },
      "source": [
        "<a href=\"https://colab.research.google.com/github/andrewshiva/Ineuron-Assingements/blob/master/Exception_handling_Assignment.ipynb\" target=\"_parent\"><img src=\"https://colab.research.google.com/assets/colab-badge.svg\" alt=\"Open In Colab\"/></a>"
      ]
    },
    {
      "cell_type": "code",
      "metadata": {
        "colab": {
          "base_uri": "https://localhost:8080/"
        },
        "id": "vfL7OlvwKW0O",
        "outputId": "0501c00d-e071-4b82-c3e0-839bd9a1c6ea"
      },
      "source": [
        "#1\r\n",
        "def divide():\r\n",
        "    return 5/0\r\n",
        "\r\n",
        "try:\r\n",
        "    divide()\r\n",
        "except ZeroDivisionError as ze:\r\n",
        "    print(\"i divide five by zero i am noob!!\")\r\n",
        "except:\r\n",
        "    print(\"Any other exception\")"
      ],
      "execution_count": 2,
      "outputs": [
        {
          "output_type": "stream",
          "text": [
            "i divide five by zero i am noob!!\n"
          ],
          "name": "stdout"
        }
      ]
    },
    {
      "cell_type": "code",
      "metadata": {
        "colab": {
          "base_uri": "https://localhost:8080/"
        },
        "id": "2lVoztvhLDwr",
        "outputId": "ae6bd99f-1a92-489b-9626-ce9f7971b330"
      },
      "source": [
        "#2\r\n",
        "Subject=['Americans',  'Indians'] \r\n",
        "Verb=['play',  'watch'] \r\n",
        "Object=['Baseball',  'Cricket']\r\n",
        "\r\n",
        "All_sentences=[(sub +\" \"+ ver +\" \" + obj) for sub in Subject for ver in Verb  for obj in Object]\r\n",
        "for sentence in All_sentences: print(sentence)\r\n"
      ],
      "execution_count": 10,
      "outputs": [
        {
          "output_type": "stream",
          "text": [
            "Americans play Baseball\n",
            "Americans play Cricket\n",
            "Americans watch Baseball\n",
            "Americans watch Cricket\n",
            "Indians play Baseball\n",
            "Indians play Cricket\n",
            "Indians watch Baseball\n",
            "Indians watch Cricket\n"
          ],
          "name": "stdout"
        }
      ]
    },
    {
      "cell_type": "code",
      "metadata": {
        "id": "t0D9fPWFP85R"
      },
      "source": [
        ""
      ],
      "execution_count": null,
      "outputs": []
    }
  ]
}